{
 "cells": [
  {
   "cell_type": "markdown",
   "id": "e13bc190",
   "metadata": {},
   "source": [
    "# Children with Medical Complex Conditions\n",
    "\n",
    "Motivation:\n",
    "The motivation behind this project is to understand the framework in which children with complex chronic medical conditions and his families operate. Taking care of kids with several conditions is challenging for the families not only because it reqires coordinating different especialities but also coordinating with school and any other event. Those kids grow up with multiple medical visits, multiple things to track, multiple responsabilities in an age when his friends are just being kids. \n",
    "\n",
    "This project analizes first the clinical presentation of young adults to the emrgency room from the MIMIC-III dataset and then the data the clinical presentation of children to the emrgency room from the PIC dataset.\n",
    "\n",
    "#### Datasets: MIMIC & PIC\n",
    "\n",
    "There are limited public datasets that are open source and can be use. Here, we use the publicly available dataset Medical Information Mart for Intensive Care III, MIMIC-III and the Paediatric Intensive Care, PIC.\n",
    "\n",
    "#### MIMIC\n",
    "MIMIC-III is an open access hospital database that contains de-identified data from over 40,000 patients who were admitted to Beth Israel Deaconess Medical Center in Boston, Massachusetts, from 2001 to 2012.\n",
    "To gain authorization to the access the data go to https://mimic.physionet.org/gettingstarted/access/ \n",
    "http://pic.nbscn.org/\n",
    "MIMIC does not contain data from paediatric patients.\n",
    "The data has been dowloaded, however due to xx\n",
    "\n",
    "#### PIC\n",
    "PIC (Pediatric Intensive Care) is a large pediatric-specific single-center bilingual database comprising information relating to children admitted to critical care units at a large children’s hospital in China. Data includes vital signs, medications, laboratory measurements, fluid balance, diagnostic codes, hospital length of stay, survival data, and more. \n",
    "To gain authorization to the access the data go to http://pic.nbscn.org/\n",
    "\n",
    "-----------------------\n",
    "\n",
    "\"The databases are released under the Health Insurance Portability and Accountability Act (HIPAA) safe harbor provision.\"\n",
    "\n"
   ]
  },
  {
   "cell_type": "markdown",
   "id": "8a21d126",
   "metadata": {},
   "source": [
    "## Part 1: Young Adults \n",
    "\n"
   ]
  },
  {
   "cell_type": "markdown",
   "id": "3d5baa04",
   "metadata": {},
   "source": [
    "## 1.1. Data \n",
    "\n",
    "In this project, we will make use of the following MIMIC tables:\n",
    "\n",
    "- PATIENTS - a table containing information about the patient (with contains all notes for each hospitalization (links with ADMISSIONS on SUBJECT_ID)\n",
    "- ADMISSIONS - a table containing admission and discharge dates (has a unique identifier HADM_ID for each admission and links with PATIENTS on SUBJECT_ID)\n",
    "- NOTEEVENTS - contains all notes for each hospitalization (links with ADMISSIONS on HADM_ID and with PATIENTS on SUBJECT_ID)\n",
    "- ICUSTAYS - a table containing ICU stays (links with ADMISSIONS on HADM_ID and with PATIENTS on SUBJECT_ID)\n",
    "\n",
    "\n"
   ]
  },
  {
   "cell_type": "code",
   "execution_count": null,
   "id": "2aa94d46",
   "metadata": {},
   "outputs": [],
   "source": [
    "# load the compressed files \n",
    "# \n",
    "import gzip\n",
    "\n",
    "for filename in [ \"data/PATIENTS.csv.gz\",\"data/ADMISSIONS.csv.gz\", \"data/NOTEEVENTS.csv.gz\",'data/ICUSTAYS.csv.gz']:\n",
    "    with gzip.open(filename, 'rt') as f:\n",
    "        data = f.read()\n",
    "        \n",
    "    with open(filename[:-3], 'wt') as f:\n",
    "        f.write(data)"
   ]
  },
  {
   "cell_type": "code",
   "execution_count": null,
   "id": "d165e165",
   "metadata": {},
   "outputs": [],
   "source": [
    "# load admissions table\n",
    "\n",
    "import pandas as pd\n",
    "import numpy as np\n",
    "import matplotlib.pyplot as plt\n",
    "# import datetime \n",
    "\n",
    "# read patients table\n",
    "patient_df = pd.read_csv('data/PATIENTS.csv')\n",
    "\n",
    "patient_df.head()"
   ]
  },
  {
   "cell_type": "code",
   "execution_count": null,
   "id": "dead4d54",
   "metadata": {
    "scrolled": true
   },
   "outputs": [],
   "source": [
    "# show dimensions\n",
    "patient_df.shape"
   ]
  },
  {
   "cell_type": "code",
   "execution_count": null,
   "id": "12518421",
   "metadata": {},
   "outputs": [],
   "source": [
    "patient_df.info()"
   ]
  },
  {
   "cell_type": "code",
   "execution_count": null,
   "id": "b2f5bd74",
   "metadata": {},
   "outputs": [],
   "source": [
    "# full list of columns containing the data categories \n",
    "categories = patient_df.columns.ravel()\n",
    "print (categories)\n"
   ]
  },
  {
   "cell_type": "code",
   "execution_count": null,
   "id": "0006cc8b",
   "metadata": {},
   "outputs": [],
   "source": [
    "# read admissions table\n",
    "adm_df = pd.read_csv('data/ADMISSIONS.csv')\n",
    "\n",
    "adm_df.head()"
   ]
  },
  {
   "cell_type": "code",
   "execution_count": null,
   "id": "590a3a96",
   "metadata": {
    "scrolled": true
   },
   "outputs": [],
   "source": [
    "# show dimensions\n",
    "adm_df.shape"
   ]
  },
  {
   "cell_type": "code",
   "execution_count": null,
   "id": "1bcb13e9",
   "metadata": {
    "scrolled": true
   },
   "outputs": [],
   "source": [
    "# full list of columns containing the data categories \n",
    "categories = adm_df.columns.ravel()\n",
    "print (categories)"
   ]
  },
  {
   "cell_type": "code",
   "execution_count": null,
   "id": "d74fedc0",
   "metadata": {},
   "outputs": [],
   "source": [
    "adm_df.info()"
   ]
  },
  {
   "cell_type": "code",
   "execution_count": null,
   "id": "0450bc1b",
   "metadata": {},
   "outputs": [],
   "source": [
    "# read admissions table\n",
    "icustays_df = pd.read_csv('data/ICUSTAYS.csv')\n",
    "\n",
    "icustays_df.head()"
   ]
  },
  {
   "cell_type": "code",
   "execution_count": null,
   "id": "60cc9d6e",
   "metadata": {},
   "outputs": [],
   "source": [
    "# show dimensions\n",
    "icustays_df.shape"
   ]
  },
  {
   "cell_type": "code",
   "execution_count": null,
   "id": "015fb905",
   "metadata": {},
   "outputs": [],
   "source": [
    "icustays_df.info()"
   ]
  },
  {
   "cell_type": "code",
   "execution_count": null,
   "id": "f953347f",
   "metadata": {},
   "outputs": [],
   "source": [
    "# full list of columns containing the data categories \n",
    "categories = icustays_df.columns.ravel()\n",
    "print (categories)"
   ]
  },
  {
   "cell_type": "code",
   "execution_count": null,
   "id": "bc47f472",
   "metadata": {},
   "outputs": [],
   "source": [
    "# convert to dates\n",
    "patient_df.DOB = pd.to_datetime(patient_df.DOB, format = '%Y-%m-%d', errors = 'coerce')\n",
    "patient_df.DOD = pd.to_datetime(patient_df.DOD, format = '%Y-%m-%d', errors = 'coerce')\n",
    "patient_df.DOD_HOSP = pd.to_datetime(patient_df.DOD_HOSP, format = '%Y-%m-%d', errors = 'coerce')\n",
    "patient_df.DOD_SSN = pd.to_datetime(patient_df.DOD_SSN,format = '%Y-%m-%d', errors = 'coerce')"
   ]
  },
  {
   "cell_type": "code",
   "execution_count": null,
   "id": "505376d8",
   "metadata": {},
   "outputs": [],
   "source": [
    "# convert to dates\n",
    "adm_df.ADMITTIME = pd.to_datetime(adm_df.ADMITTIME, format = '%Y-%m-%d', errors = 'coerce')\n",
    "adm_df.DISCHTIME = pd.to_datetime(adm_df.DISCHTIME, format = '%Y-%m-%d', errors = 'coerce')\n",
    "adm_df.DEATHTIME = pd.to_datetime(adm_df.DEATHTIME, format='%Y%m%d', errors = 'coerce')"
   ]
  },
  {
   "cell_type": "code",
   "execution_count": null,
   "id": "bc8dbf93",
   "metadata": {},
   "outputs": [],
   "source": [
    "# convert to dates\n",
    "icustays_df.INTIME = pd.to_datetime(icustays_df.INTIME, format='%Y%m%d', errors = 'coerce')\n",
    "icustays_df.OUTTIME = pd.to_datetime(icustays_df.OUTTIME, format='%Y%m%d', errors = 'coerce')\n"
   ]
  },
  {
   "cell_type": "code",
   "execution_count": null,
   "id": "8cc0b6af",
   "metadata": {},
   "outputs": [],
   "source": [
    "# merge datasets\n",
    "df_adm_pat = pd.merge(adm_df[['SUBJECT_ID','HADM_ID','ADMITTIME']],\n",
    "                        patient_df[['SUBJECT_ID', 'DOB','EXPIRE_FLAG']], \n",
    "                        on = ['SUBJECT_ID'],\n",
    "                        how = 'left')\n",
    "\n",
    "assert len(adm_df) == len(df_adm_pat), 'Number of rows increased'\n"
   ]
  },
  {
   "cell_type": "code",
   "execution_count": null,
   "id": "e132db73",
   "metadata": {},
   "outputs": [],
   "source": [
    "df = pd.merge(patient_df[['SUBJECT_ID', 'DOB','EXPIRE_FLAG']],\n",
    "              icustays_df[['SUBJECT_ID', 'ICUSTAY_ID','INTIME',\"OUTTIME\"]],\n",
    "              on = ['SUBJECT_ID'], how = 'left')\n",
    "\n",
    "\n",
    "df.head()"
   ]
  },
  {
   "cell_type": "code",
   "execution_count": null,
   "id": "aa291583",
   "metadata": {},
   "outputs": [],
   "source": [
    "df_a_p_i = pd.merge(adm_df[['SUBJECT_ID','HADM_ID','ADMITTIME']],\n",
    "                    pd.merge(patient_df[['SUBJECT_ID', 'DOB','EXPIRE_FLAG']],\n",
    "                             icustays_df[['SUBJECT_ID', 'ICUSTAY_ID','INTIME',\"OUTTIME\"]],\n",
    "                             on = ['SUBJECT_ID'], how = 'left'),\n",
    "                    on = ['SUBJECT_ID'],\n",
    "                    how = 'left')\n"
   ]
  },
  {
   "cell_type": "code",
   "execution_count": null,
   "id": "5b63e0a3",
   "metadata": {},
   "outputs": [],
   "source": [
    "df_a_p_i.head(10)"
   ]
  },
  {
   "cell_type": "code",
   "execution_count": null,
   "id": "9ee19c20",
   "metadata": {},
   "outputs": [],
   "source": [
    "# sort by subject_ID and admission date\n",
    "\n",
    "df_a_p_i = df_adm_pat1.sort_values(['SUBJECT_ID','ADMITTIME','INTIME'])\n",
    "df_a_p_i = df_adm_pat1.reset_index(drop = True)\n"
   ]
  },
  {
   "cell_type": "code",
   "execution_count": null,
   "id": "83129f5c",
   "metadata": {},
   "outputs": [],
   "source": [
    "# verify that it did what we wanted\n",
    "\n",
    "df_a_p_i.loc[df_a_p_i.SUBJECT_ID == 124,['SUBJECT_ID','ADMITTIME','INTIME']]"
   ]
  },
  {
   "cell_type": "code",
   "execution_count": null,
   "id": "f8ba57e6",
   "metadata": {},
   "outputs": [],
   "source": [
    "df_adm_pat1['first_admitance']= df_adm_pat1.groupby(['SUBJECT_ID'])['ADMITTIME'].transform('min')\n",
    "\n"
   ]
  },
  {
   "cell_type": "code",
   "execution_count": null,
   "id": "c8d948e9",
   "metadata": {
    "scrolled": true
   },
   "outputs": [],
   "source": [
    "# verify that it did what we wanted\n",
    "\n",
    "df_adm_pat1.loc[df_adm_pat1.SUBJECT_ID == 124,['SUBJECT_ID','ADMITTIME','INTIME','first_admitance']]"
   ]
  },
  {
   "cell_type": "code",
   "execution_count": null,
   "id": "18ad601f",
   "metadata": {},
   "outputs": [],
   "source": []
  },
  {
   "cell_type": "markdown",
   "id": "cff48fb6",
   "metadata": {},
   "source": [
    "#### Calculate the age at the time of first admission\n",
    "\n",
    "A note about dates from MIMIC website:\n",
    "\n",
    "DOB has only been shifted for patients older than 89. \n",
    "\n",
    "All dates in the database have been shifted to protect patient confidentiality. Dates will be internally consistent for the same patient, but randomly distributed in the future."
   ]
  },
  {
   "cell_type": "markdown",
   "id": "912bd319",
   "metadata": {},
   "source": [
    "To determine the mortality rate we must first select the proper age group. I am calling them yough adults, and are those whose age is between 16 - 26 and mostlikely be included in their parents health insurance - if they have.\n",
    "\n",
    "These yough adults are between 16 to 26 years old at the date of their first admission. To perform this query, we use patient admission dates and dates of birth."
   ]
  },
  {
   "cell_type": "code",
   "execution_count": null,
   "id": "0bcd0dda",
   "metadata": {},
   "outputs": [],
   "source": [
    "# calculate age \n",
    "\n",
    "df_adm_pat['first_admitance'] = pd.to_datetime(df_adm_pat.first_admitance, errors='coerce', format = '%Y-%m-%d')\n",
    "\n",
    "df_adm_pat['DOB'] = pd.to_datetime(df_adm_pat.DOB, errors='coerce',format = '%Y-%m-%d')\n",
    "\n",
    "\n"
   ]
  },
  {
   "cell_type": "code",
   "execution_count": null,
   "id": "0b0742f6",
   "metadata": {
    "scrolled": false
   },
   "outputs": [],
   "source": [
    "df_adm_pat.head()\n"
   ]
  },
  {
   "cell_type": "code",
   "execution_count": null,
   "id": "c2ccc13f",
   "metadata": {},
   "outputs": [],
   "source": [
    "# calculate age at first admission\n",
    "\n",
    "df_adm_pat['age_first_adm'] = (df_adm_pat['first_admitance'] - df_adm_pat['DOB']).dt.days // 365 \n"
   ]
  },
  {
   "cell_type": "markdown",
   "id": "4d448d42",
   "metadata": {},
   "source": [
    "The age of patients older than 89 has been shifted to protect their identity. \n",
    "Those patients have been assigned an age of 90"
   ]
  },
  {
   "cell_type": "code",
   "execution_count": null,
   "id": "14a12a47",
   "metadata": {
    "scrolled": true
   },
   "outputs": [],
   "source": [
    "# age reasigment \n",
    "\n",
    "df_adm_pat['age_first_adm'] = [90 if x < 0 else x for x in df_adm_pat['age_first_adm']]\n",
    "        "
   ]
  },
  {
   "cell_type": "code",
   "execution_count": null,
   "id": "1c2a70b4",
   "metadata": {},
   "outputs": [],
   "source": [
    "# age distribution\n",
    "\n",
    "fig, axes = plt.subplots(1, 2, figsize=(10, 4))\n",
    "\n",
    "\n",
    "df_adm_pat.hist('age_first_adm', bins = 50,ax=axes[0],color='orange', grid = False)\n",
    "df_adm_pat[(df_adm_pat['age_first_adm']>= 16) & (df_adm_pat['age_first_adm'] <= 26)].hist('age_first_adm', bins=10,ax=axes[1],color='orange', grid = False)\n",
    "\n",
    "axes[0].set(title='Age distribution all patients',xlabel='age (years)', ylabel='frequency' )\n",
    "axes[1].set(title='Age distribution young adults',xlabel='age (years)', ylabel='frequency')\n",
    "\n",
    "plt.show()"
   ]
  },
  {
   "cell_type": "code",
   "execution_count": null,
   "id": "28bfa20f",
   "metadata": {},
   "outputs": [],
   "source": [
    "# choose patients between 16-26 years old at the time of their first admission\n",
    "\n",
    "\n",
    "df_young = df_adm_pat[(df_adm_pat['age_first_adm']>= 16) & (df_adm_pat['age_first_adm'] <= 26)]\n"
   ]
  },
  {
   "cell_type": "code",
   "execution_count": null,
   "id": "8f209afb",
   "metadata": {},
   "outputs": [],
   "source": [
    "df_young.info()"
   ]
  },
  {
   "cell_type": "markdown",
   "id": "1828a0a9",
   "metadata": {},
   "source": [
    "Check how many ICU admissions each patient had \n"
   ]
  },
  {
   "cell_type": "code",
   "execution_count": null,
   "id": "74dc72ae",
   "metadata": {},
   "outputs": [],
   "source": []
  },
  {
   "cell_type": "code",
   "execution_count": null,
   "id": "cbb8ac12",
   "metadata": {},
   "outputs": [],
   "source": []
  },
  {
   "cell_type": "code",
   "execution_count": null,
   "id": "fd133137",
   "metadata": {},
   "outputs": [],
   "source": []
  },
  {
   "cell_type": "code",
   "execution_count": null,
   "id": "d9f3c730",
   "metadata": {},
   "outputs": [],
   "source": []
  },
  {
   "cell_type": "code",
   "execution_count": null,
   "id": "32097466",
   "metadata": {},
   "outputs": [],
   "source": []
  }
 ],
 "metadata": {
  "kernelspec": {
   "display_name": "Python 3",
   "language": "python",
   "name": "python3"
  },
  "language_info": {
   "codemirror_mode": {
    "name": "ipython",
    "version": 3
   },
   "file_extension": ".py",
   "mimetype": "text/x-python",
   "name": "python",
   "nbconvert_exporter": "python",
   "pygments_lexer": "ipython3",
   "version": "3.6.13"
  }
 },
 "nbformat": 4,
 "nbformat_minor": 5
}
